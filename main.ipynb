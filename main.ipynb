{
 "cells": [
  {
   "cell_type": "code",
   "execution_count": 252,
   "metadata": {},
   "outputs": [],
   "source": [
    "class Value:\n",
    "\n",
    "    def __init__(self, data, parents=()):\n",
    "        self.data = data\n",
    "        self.parents = parents\n",
    "        self.weight = 0.0\n",
    "\n",
    "    def __add__(self, other):\n",
    "\n",
    "        child = Value(self.data + other.data, parents=(self, other, '+'))\n",
    "        \n",
    "        def _backward():\n",
    "            self.weight += 1.0 * child.weight\n",
    "            other.weight += 1.0 * child.weight\n",
    "\n",
    "            self._backward()\n",
    "            other._backward()\n",
    "        \n",
    "        child._backward = _backward\n",
    "\n",
    "        return child\n",
    "\n",
    "    def __mul__(self, other):\n",
    "\n",
    "        child = Value(self.data * other.data, parents=(self, other, '*'))\n",
    "        \n",
    "        def _backward():\n",
    "            self.weight += other.data * child.weight\n",
    "            other.weight += self.data * child.weight\n",
    "\n",
    "            self._backward()\n",
    "            other._backward()\n",
    "\n",
    "        child._backward = _backward\n",
    "        \n",
    "        return child\n",
    "\n",
    "    def _backward(self):\n",
    "        pass\n",
    "        #This will only be called in the last node. For the others, we call _backward. Thus we need topo sort to call it in the correct order (it won't be propagated backwards)\n",
    "        #Implement a topological sort. Will work without topo sort, however topo sort ensures we do not recompute values (e.g. we don't recompute w if w*x0 and w*x1)\n",
    "\n",
    "    def backward(self):\n",
    "        self.weight = 1.0\n",
    "        self._backward()\n",
    "\n",
    "    def __repr__(self) -> str:\n",
    "        if self.parents:\n",
    "            return f\"Val({self.data}, weight: {self.weight}, parents: ({self.parents[0].data} {self.parents[2]} {self.parents[1].data}))\"\n",
    "        else:\n",
    "            return f'Val({self.data}, weight: {self.weight}, parents: None)'"
   ]
  },
  {
   "cell_type": "code",
   "execution_count": 253,
   "metadata": {},
   "outputs": [
    {
     "name": "stdout",
     "output_type": "stream",
     "text": [
      "Val(12.0, weight: 0.0, parents: (3.0 * 4.0))\n",
      "test\n"
     ]
    }
   ],
   "source": [
    "a = Value(3.0)\n",
    "b = Value(4.0)\n",
    "\n",
    "c = a * b\n",
    "print(c)\n",
    "print('test')"
   ]
  },
  {
   "cell_type": "code",
   "execution_count": 254,
   "metadata": {},
   "outputs": [],
   "source": [
    "d = c * Value(3.0)"
   ]
  },
  {
   "cell_type": "code",
   "execution_count": 255,
   "metadata": {},
   "outputs": [
    {
     "data": {
      "text/plain": [
       "-48.0"
      ]
     },
     "execution_count": 255,
     "metadata": {},
     "output_type": "execute_result"
    }
   ],
   "source": [
    "#BUG: Probably because 'Value' has no parent. Thus. d = c * Value(3.0). So d = self:c, other:3.0. self.weight = other.data(3.0) * out.weight(-4.0)\n",
    "e = d * Value(-4.0)\n",
    "\n",
    "\n",
    "e._backward()\n",
    "\n",
    "a.weight"
   ]
  },
  {
   "cell_type": "code",
   "execution_count": 256,
   "metadata": {},
   "outputs": [
    {
     "name": "stdout",
     "output_type": "stream",
     "text": [
      "a: (), -48.0\n",
      "b: (), -36.0\n",
      "c: (Val(3.0, weight: -48.0, parents: None), Val(4.0, weight: -36.0, parents: None), '*'), -12.0\n",
      "d: (Val(12.0, weight: -12.0, parents: (3.0 * 4.0)), Val(3.0, weight: -48.0, parents: None), '*'), -4.0\n",
      "e: (Val(36.0, weight: -4.0, parents: (12.0 * 3.0)), Val(-4.0, weight: 36.0, parents: None), '*'), 1.0\n"
     ]
    }
   ],
   "source": [
    "print(f'a: {a.parents}, {a.weight}')\n",
    "\n",
    "print(f'b: {b.parents}, {b.weight}')\n",
    "\n",
    "print(f'c: {c.parents}, {c.weight}')\n",
    "\n",
    "print(f'd: {d.parents}, {d.weight}')\n",
    "\n",
    "print(f'e: {e.parents}, {e.weight}')"
   ]
  }
 ],
 "metadata": {
  "kernelspec": {
   "display_name": ".venv",
   "language": "python",
   "name": "python3"
  },
  "language_info": {
   "codemirror_mode": {
    "name": "ipython",
    "version": 3
   },
   "file_extension": ".py",
   "mimetype": "text/x-python",
   "name": "python",
   "nbconvert_exporter": "python",
   "pygments_lexer": "ipython3",
   "version": "3.12.3"
  }
 },
 "nbformat": 4,
 "nbformat_minor": 2
}
