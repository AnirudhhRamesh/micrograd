{
 "cells": [
  {
   "cell_type": "markdown",
   "metadata": {},
   "source": [
    "# Micrograd - Arnie's version\n",
    "\n",
    "I built this project as a way to solidify my understanding of the Stanford/DeepLearningAI Coursera course.\n",
    "\n",
    "Before taking the class (June start - July end), I had watched Andrej Karpathy's Micrograd lecture (around May), but not since then.\n",
    "\n",
    "To really test my understanding, I built this out *without* re-watching Karpathy's lecture. That is, I built this with a rough understanding of autograd, and thought through first principles of differentiation, partial derivatives, chain_rule, software design, back_propagation, linear regression, optimizers, loss functions.\n",
    "\n",
    "Note:\n",
    "- I did have a working micrograd implementation, however my loss was incorrect.\n",
    "- After manually calculating the backprop and still not figuring out, I skimmed through Karpathy's micrograd code.\n",
    "- I took the opportunity to:\n",
    "-> Add in additional methods I hand't thought like __sub__, __rsub__, ....\n",
    "-> Clean-up my implementation of Neuron (notably, passing in input_feature and a single x sample, rather than the x as array itself)\n",
    "\n",
    "In the end, I realized the problem was with that I forgot to call the zero_grad() which led to the loss bouncing since the grads were compounding across iterations\n",
    "\n",
    "In principle, I don't take shortcuts, but given my urgency to progress as fast as possible in ML and since I already had a working implementation (with correct intuition), it did not make sense to spend more time debugging (I can always do that later).\n",
    "\n",
    "Extra notes: Obviously I did not use Copilot xD."
   ]
  },
  {
   "cell_type": "code",
   "execution_count": 1,
   "metadata": {},
   "outputs": [
    {
     "name": "stdout",
     "output_type": "stream",
     "text": [
      "Requirement already satisfied: pydantic in ./.venv/lib/python3.12/site-packages (2.8.2)\n",
      "Requirement already satisfied: annotated-types>=0.4.0 in ./.venv/lib/python3.12/site-packages (from pydantic) (0.7.0)\n",
      "Requirement already satisfied: pydantic-core==2.20.1 in ./.venv/lib/python3.12/site-packages (from pydantic) (2.20.1)\n",
      "Requirement already satisfied: typing-extensions>=4.6.1 in ./.venv/lib/python3.12/site-packages (from pydantic) (4.12.2)\n"
     ]
    }
   ],
   "source": [
    "# Install requirements\n",
    "\n",
    "!pip install pydantic"
   ]
  },
  {
   "cell_type": "markdown",
   "metadata": {},
   "source": [
    "## Operation Tests"
   ]
  },
  {
   "cell_type": "code",
   "execution_count": 2,
   "metadata": {},
   "outputs": [
    {
     "name": "stdout",
     "output_type": "stream",
     "text": [
      "Val(value=18.0000, grad=0.0000, parents=(6.0 * 3.0))\n",
      "Val(value=2.0000, grad=0.0000, parents=(6.0 * 0.3333333333333333))\n"
     ]
    }
   ],
   "source": [
    "from micrograd.engine.value import Value\n",
    "\n",
    "a = Value(6.0)\n",
    "b = Value(3.0)\n",
    "\n",
    "c = a * b\n",
    "print(c)\n",
    "\n",
    "d = a / b\n",
    "print(d)\n",
    "\n",
    "e = Value(100.0)\n",
    "f = e.log()\n",
    "# print(f)"
   ]
  },
  {
   "cell_type": "code",
   "execution_count": 3,
   "metadata": {},
   "outputs": [],
   "source": [
    "f = f.log()\n",
    "# print(f)"
   ]
  },
  {
   "cell_type": "markdown",
   "metadata": {},
   "source": [
    "## Simple Linear Regression Example"
   ]
  },
  {
   "cell_type": "code",
   "execution_count": 4,
   "metadata": {},
   "outputs": [
    {
     "name": "stdout",
     "output_type": "stream",
     "text": [
      "Epoch [100/1000], Loss: 0.0557\n",
      "Epoch [200/1000], Loss: 0.0439\n",
      "Epoch [300/1000], Loss: 0.0426\n",
      "Epoch [400/1000], Loss: 0.0425\n",
      "Epoch [500/1000], Loss: 0.0425\n",
      "Epoch [600/1000], Loss: 0.0425\n",
      "Epoch [700/1000], Loss: 0.0425\n",
      "Epoch [800/1000], Loss: 0.0425\n",
      "Epoch [900/1000], Loss: 0.0425\n",
      "Epoch [1000/1000], Loss: 0.0425\n",
      "Prediction for x=6.0 is y_pred=11.81632756353839 (Expected is 12)\n"
     ]
    }
   ],
   "source": [
    "from micrograd.nets.SimpleLinearRegression import SimpleLinearRegression\n",
    "from micrograd.loss_functions.MSE import MSE\n",
    "from micrograd.optimizers.SimpleOptimizer import SimpleOptimizer\n",
    "\n",
    "from micrograd.engine.value import Value\n",
    "\n",
    "# Set-up model, optimizers and loss function\n",
    "model = SimpleLinearRegression()\n",
    "criterion = MSE()\n",
    "\n",
    "num_epochs = 1000\n",
    "lr = 0.01\n",
    "\n",
    "optimizer = SimpleOptimizer(model.parameters(), lr)\n",
    "\n",
    "# Dataset\n",
    "x = [Value(1.0), Value(4.0), Value(9.0)]\n",
    "y = [Value(1.0), Value(8.0), Value(18.0)]\n",
    "\n",
    "for epoch in range(num_epochs):\n",
    "    # Need to applying the logistic activation!\n",
    "    y_pred = [model([xi]) for xi in x]\n",
    "\n",
    "    loss = criterion(y_pred, y)\n",
    "\n",
    "    optimizer.zero_grad()\n",
    "\n",
    "    loss.backward()\n",
    "    optimizer.step()\n",
    "\n",
    "    if (epoch + 1) % 100 == 0:\n",
    "        print(f'Epoch [{epoch+1}/{num_epochs}], Loss: {loss.value:.4f}')\n",
    "\n",
    "test_x = [Value(6.0)]\n",
    "test_y_pred = model(test_x)\n",
    "\n",
    "print(f\"Prediction for x={test_x[0].value} is y_pred={test_y_pred.value} (Expected is 12)\")"
   ]
  },
  {
   "cell_type": "markdown",
   "metadata": {},
   "source": [
    "## Hot Dog Classifier\n",
    "Inspired by Jian-Yang from Silicon Valley, I built out a simple hot dog classifer.\n",
    "\n",
    "I downloaded a dataset from HuggingFace and used my Micrograd implementation to train and evaluate test images :)"
   ]
  },
  {
   "cell_type": "code",
   "execution_count": 5,
   "metadata": {},
   "outputs": [
    {
     "name": "stdout",
     "output_type": "stream",
     "text": [
      "Requirement already satisfied: Pillow in ./.venv/lib/python3.12/site-packages (10.4.0)\n",
      "Requirement already satisfied: numpy in ./.venv/lib/python3.12/site-packages (2.0.0)\n"
     ]
    }
   ],
   "source": [
    "!pip install Pillow\n",
    "!pip install numpy"
   ]
  },
  {
   "cell_type": "code",
   "execution_count": 6,
   "metadata": {},
   "outputs": [
    {
     "name": "stdout",
     "output_type": "stream",
     "text": [
      "Training samples: 200\n",
      "Validation samples: 50\n"
     ]
    }
   ],
   "source": [
    "# Load data and pre-process it\n",
    "import os\n",
    "from PIL import Image\n",
    "import numpy as np\n",
    "from micrograd.engine.value import Value\n",
    "\n",
    "IMAGE_SIZE = 225\n",
    "\n",
    "def load_and_preprocess_images(folder_path, label, image_size):\n",
    "    images = []\n",
    "    labels = []\n",
    "    for filename in os.listdir(folder_path):\n",
    "        if filename.endswith(('.jpg', '.jpeg', '.png')):\n",
    "            img_path = os.path.join(folder_path, filename)\n",
    "            with Image.open(img_path) as img:\n",
    "                img = img.resize((image_size, image_size))\n",
    "                img = img.convert('L')  # Convert to grayscale\n",
    "                img_array = np.array(img).flatten() / 255.0  # Normalize to [0, 1]\n",
    "                images.append([Value(float(pixel)) for pixel in img_array])\n",
    "                labels.append(Value(float(label)))\n",
    "    return images, labels\n",
    "\n",
    "# Load training data\n",
    "train_hotdog_path = 'dataset/hotdog_nothotdog/train/hotdog'\n",
    "train_nothotdog_path = 'dataset/hotdog_nothotdog/train/not_hotdog'\n",
    "\n",
    "x_train_hotdog, y_train_hotdog = load_and_preprocess_images(train_hotdog_path, 1, IMAGE_SIZE)\n",
    "x_train_nothotdog, y_train_nothotdog = load_and_preprocess_images(train_nothotdog_path, 0, IMAGE_SIZE)\n",
    "\n",
    "x_train = x_train_hotdog + x_train_nothotdog\n",
    "y_train = y_train_hotdog + y_train_nothotdog\n",
    "\n",
    "# Load validation data\n",
    "val_hotdog_path = 'dataset/hotdog_nothotdog/val/hotdog'\n",
    "val_nothotdog_path = 'dataset/hotdog_nothotdog/val/not_hotdog'\n",
    "\n",
    "x_valid_hotdog, y_valid_hotdog = load_and_preprocess_images(val_hotdog_path, 1, IMAGE_SIZE)\n",
    "x_valid_nothotdog, y_valid_nothotdog = load_and_preprocess_images(val_nothotdog_path, 0, IMAGE_SIZE)\n",
    "\n",
    "x_valid = x_valid_hotdog + x_valid_nothotdog\n",
    "y_valid = y_valid_hotdog + y_valid_nothotdog\n",
    "\n",
    "# Shuffle the training data\n",
    "combined = list(zip(x_train, y_train))\n",
    "np.random.shuffle(combined)\n",
    "x_train, y_train = zip(*combined)\n",
    "\n",
    "print(f\"Training samples: {len(x_train)}\")\n",
    "print(f\"Validation samples: {len(x_valid)}\")"
   ]
  },
  {
   "cell_type": "code",
   "execution_count": 7,
   "metadata": {},
   "outputs": [
    {
     "name": "stdout",
     "output_type": "stream",
     "text": [
      "Epoch [1/1000], Loss: 19.27597753504074 - (step: 0.04)\n",
      "Epoch [2/1000], Loss: 19.194378964584704 - (step: 0.04)\n",
      "Epoch [3/1000], Loss: 19.160225360889417 - (step: 0.04)\n",
      "Epoch [4/1000], Loss: 19.12638730430335 - (step: 0.04)\n",
      "Epoch [5/1000], Loss: 19.027540792324544 - (step: 0.04)\n",
      "Epoch [6/1000], Loss: 18.949023464810374 - (step: 0.04)\n",
      "Epoch [7/1000], Loss: 18.623217836393184 - (step: 0.04)\n",
      "Epoch [8/1000], Loss: 18.419496219551196 - (step: 0.04)\n",
      "Epoch [9/1000], Loss: 18.20838775934107 - (step: 0.04)\n",
      "Epoch [10/1000], Loss: 17.962298828046166 - (step: 0.04)\n",
      "Epoch [11/1000], Loss: 17.682050020246123 - (step: 0.04)\n",
      "Epoch [12/1000], Loss: 17.17145053678899 - (step: 0.04)\n",
      "Epoch [13/1000], Loss: 16.671359444915126 - (step: 0.04)\n",
      "Epoch [14/1000], Loss: 15.523554073728265 - (step: 0.04)\n",
      "Epoch [15/1000], Loss: 13.677555737292836 - (step: 0.04)\n",
      "Epoch [16/1000], Loss: 8.458576800333601 - (step: 0.02)\n",
      "Epoch [17/1000], Loss: 4.967138607664598 - (step: 0.02)\n",
      "Epoch [18/1000], Loss: 1.666139849362127 - (step: 0.02)\n",
      "Epoch [19/1000], Loss: 6.249019037767665 - (step: 0.02)\n",
      "Epoch [20/1000], Loss: 2.545814771668153 - (step: 0.02)\n",
      "Epoch [21/1000], Loss: 1.1810002000184578 - (step: 0.02)\n",
      "Epoch [22/1000], Loss: 4.639817799604142 - (step: 0.02)\n",
      "Epoch [23/1000], Loss: 1.0242880784074566 - (step: 0.02)\n",
      "Epoch [24/1000], Loss: 5.661583432592153 - (step: 0.02)\n",
      "Epoch [25/1000], Loss: 1.419203129133773 - (step: 0.02)\n",
      "Epoch [26/1000], Loss: 6.613780065853663 - (step: 0.02)\n",
      "Epoch [27/1000], Loss: 1.9619616190452576 - (step: 0.02)\n",
      "Early stopping at epoch 28, loss: 0.7960\n"
     ]
    }
   ],
   "source": [
    "from micrograd.nets.ComplexLogisticRegression import ComplexLogisticRegression\n",
    "\n",
    "from micrograd.loss_functions.BinaryCrossEntropy import BinaryCrossEntropy\n",
    "from micrograd.optimizers.SimpleOptimizer import SimpleOptimizer\n",
    "\n",
    "import random\n",
    "\n",
    "\n",
    "model = ComplexLogisticRegression(image_size=IMAGE_SIZE)\n",
    "criterion = BinaryCrossEntropy()\n",
    "\n",
    "num_epochs = 1000\n",
    "lr = 0.02\n",
    "\n",
    "optimizer = SimpleOptimizer(model.parameters(), lr)\n",
    "\n",
    "losses = []\n",
    "\n",
    "# Train the model\n",
    "for epoch in range(num_epochs):\n",
    "\n",
    "    y_pred = [model(xi) for xi in x_train]\n",
    "\n",
    "    # for prediction in y_pred:\n",
    "        # print(f\"Prediction: {prediction}\")\n",
    "\n",
    "    loss = criterion(y_pred, y_train)\n",
    "\n",
    "    optimizer.zero_grad()\n",
    "\n",
    "    loss.backward()\n",
    "\n",
    "    # Dynamically adjust the learning rate\n",
    "    if (loss.value < 20.0):\n",
    "        optimizer.set_learn_rate(0.04)  # Reduced from 0.02\n",
    "\n",
    "    if (loss.value < 10.0):\n",
    "        optimizer.set_learn_rate(0.002)  # Increased from 0.001\n",
    "\n",
    "    # TODO: Move into optimizer.step()\n",
    "    # Add gradient clipping\n",
    "    max_grad = 1.0\n",
    "    for param in model.parameters():\n",
    "        if param.grad is not None:\n",
    "            param.grad = max(min(param.grad, max_grad), -max_grad)\n",
    "\n",
    "    # Early stopping\n",
    "    if (loss.value < 1.00):\n",
    "        print(f'Early stopping at epoch {epoch+1}, loss: {loss.value:.4f}')\n",
    "        break\n",
    "\n",
    "    optimizer.step()\n",
    "    losses.append(loss)\n",
    "\n",
    "    if (epoch + 1) % 1 == 0:\n",
    "        print(f'Epoch [{epoch+1}/{num_epochs}], Loss: {loss.value} - (step: {optimizer.get_learn_rate()})')"
   ]
  },
  {
   "cell_type": "code",
   "execution_count": 8,
   "metadata": {},
   "outputs": [
    {
     "name": "stdout",
     "output_type": "stream",
     "text": [
      "Requirement already satisfied: matplotlib in ./.venv/lib/python3.12/site-packages (3.9.1)\n",
      "Requirement already satisfied: contourpy>=1.0.1 in ./.venv/lib/python3.12/site-packages (from matplotlib) (1.2.1)\n",
      "Requirement already satisfied: cycler>=0.10 in ./.venv/lib/python3.12/site-packages (from matplotlib) (0.12.1)\n",
      "Requirement already satisfied: fonttools>=4.22.0 in ./.venv/lib/python3.12/site-packages (from matplotlib) (4.53.1)\n",
      "Requirement already satisfied: kiwisolver>=1.3.1 in ./.venv/lib/python3.12/site-packages (from matplotlib) (1.4.5)\n",
      "Requirement already satisfied: numpy>=1.23 in ./.venv/lib/python3.12/site-packages (from matplotlib) (2.0.0)\n",
      "Requirement already satisfied: packaging>=20.0 in ./.venv/lib/python3.12/site-packages (from matplotlib) (24.1)\n",
      "Requirement already satisfied: pillow>=8 in ./.venv/lib/python3.12/site-packages (from matplotlib) (10.4.0)\n",
      "Requirement already satisfied: pyparsing>=2.3.1 in ./.venv/lib/python3.12/site-packages (from matplotlib) (3.1.2)\n",
      "Requirement already satisfied: python-dateutil>=2.7 in ./.venv/lib/python3.12/site-packages (from matplotlib) (2.9.0.post0)\n",
      "Requirement already satisfied: six>=1.5 in ./.venv/lib/python3.12/site-packages (from python-dateutil>=2.7->matplotlib) (1.16.0)\n"
     ]
    }
   ],
   "source": [
    "!pip install matplotlib"
   ]
  },
  {
   "cell_type": "code",
   "execution_count": 9,
   "metadata": {},
   "outputs": [
    {
     "data": {
      "image/png": "[encoded data removed]",
      "text/plain": [
       "<Figure size 1000x600 with 1 Axes>"
      ]
     },
     "metadata": {},
     "output_type": "display_data"
    }
   ],
   "source": [
    "# Plot the losses\n",
    "import matplotlib.pyplot as plt\n",
    "\n",
    "plt.figure(figsize=(10, 6))\n",
    "plt.plot(range(1, len(losses) + 1), [loss.value for loss in losses])\n",
    "plt.title('Training Loss over Epochs')\n",
    "plt.xlabel('Epoch')\n",
    "plt.ylabel('Loss')\n",
    "plt.grid(True)\n",
    "plt.show()\n"
   ]
  },
  {
   "cell_type": "code",
   "execution_count": 10,
   "metadata": {},
   "outputs": [
    {
     "name": "stdout",
     "output_type": "stream",
     "text": [
      "Exporting model...\n",
      "{\"layers\":[{\"input_features\":225,\"output_features\":5,\"activation\":\"relu_activation\",\"neurons\":[{\"values\":[0.6989329436985595,1.249039019723437,1.1264204889661296,1.3100359981365681,0.3976737039717889,1.1862825524572798,0.74796434442675,1.340515973820429,0.44219326543351983,0.43637584369169896,1.3296454375883808,0.9582856025602015,0.8442741708829835,1.2780902294569716,0.9226763574881423,0.7603625959208007,1.328200796196609,0.9913517299498465,1.1108557867295261,0.44764068849758426,1.3072852690145393,0.6062305706649406,0.9949178130083011,1.1212015744390658,0.7459278509233918,1.098926969583689,0.700632971542126,0.6257906910608659,0.5322845620682138,1.3232608223088846,0.9737580305180237,1.2394751250788278,0.7817015187980194,1.3125640581803832,0.8258716155401092,0.3882823189517114,1.2577815716292204,0.8717329318360384,1.1667483083449393,0.8938091674976237,0.49907833793147094,0.7252543228013617,1.0338376629658506,0.5268234905222378,0.930068383611585,0.7413819901110821,0.6546542169183619,1.095229792530517,0.7382982546796812,1.171812519541777,0.8193729228985884,0.6590840767864089,0.9040481629008408,0.9849117496318214,0.7418250000292501,0.9400385219997942,0.3997464511021973,1.2251633560690995,1.1003149478793022,0.7922735923415009,0.8549613880498633,0.5560014822295225,1.3118277251061345,0.5902922424362135,1.3306486634848165,0.6663969757425655,1.1183015329259556,0.6107050240391909,1.1399953981387667,1.2171106824652165,0.9004075598252381,0.8239449795395302,0.870253209025115,0.7468827252867746,0.5535917623584986,1.1072467722636157,0.745686313948531,1.1961865554506652,0.701018184541474,1.0226625442455952,0.7344680267620284,0.6072525154943303,1.2127905137235553,0.8485385324863424,0.8730237246877568,0.5781027326015155,0.9066035937808696,0.39689528668228263,0.5146715425956523,0.5887929181741892,0.7221703022249534,0.5325055255349722,0.7876577218407034,1.0364633321947947,0.5645817945741924,0.3523464791267995,0.47069472121640316,0.3419640908017755,0.8685986976968402,0.842261075559449,0.5255803564906373,1.010095842071502,1.2310866354243184,0.879773269842818,1.2890697636935466,0.8086519266142437,1.3357049545640796,0.4165499326239079,1.2095104316968603,0.4130925563889354,1.2901962135018417,0.5758060123488369,1.1287879153428206,1.229426049368124,0.6289431742645525,1.1722691134493644,0.3715037313708072,0.4050807084414943,0.3470813169830693,0.8817820778968901,0.49637391651766094,0.8534067612235224,0.4127667930475475,0.390974325079489,0.5124765916014768,0.3785255183339838,0.8982470928098455,0.4418974356993943,0.950930815229728,0.44391397819136275,0.6210013094217556,1.0241898018272741,0.9585604821443962,0.7819775141182888,1.1920849699645817,0.8970835464864142,0.9173908813181895,1.0494832963384486,1.1610869687825947,0.9339321462106803,0.22614772582356057,0.7439681346731598,1.058850462173758,0.5592408938595226,0.5266989865193606,0.9569127231278461,0.7537656653507756,0.3156932507632462,0.12041606825464844,0.9574351741011989,0.6524730507133781,0.6022342483824734,0.10953161448773698,0.7354213062675945,0.38554390254274046,0.44981682606532,0.8588299790783326,0.7744473332588524,0.3157743132347956,0.7829672923203105,0.90772454933054,0.6561417560953334,-0.029447117699640746,0.018966929123760485,0.746066865955659,0.81512831012864,0.42990738126804784,0.6440870105492641,0.20656493764054626,0.8345153423979041,0.3982325421936519,0.021636784380987446,0.8773920863026223,0.6980108077416787,0.6261734015881767,0.46916411547487563,0.39601729664604746,0.039048798737813695,0.5948809546488121,0.6078643213114701,0.7180453586220086,0.3944561533603912,0.002612641231968145,-0.0909759263446949,0.45759397063409674,0.7979630103216004,0.37029732264919485,0.07242685530736222,0.6588475934812674,-0.1960301612359204,0.21568420888655745,0.7135394376171801,0.4446855137450024,-0.1165781803153725,0.10600327793460214,0.3672767073927528,0.3603596582990483,0.2906238629230561,0.3761023544147333,-0.16608042384577146,0.23530612702205866,0.375713864147431,0.3964068356452855,-0.010383990287163448,0.4081927425779178,0.10687509898985957,0.4000235943094152,0.6849287305716103,0.23572644665916834,-0.019027272306133703,0.5506268033585997,0.06293548207856695,-0.05642101524729323,0.4016962348286215,0.11840353472636768,0.500778061100526,-0.0691457564292008,0.5726722213661729,0.38469746996020193,0.8570001949635226,0.7818423336130008,0.3589117581999845,0.13579848903003902,0.8800939429041693,0.6119733191584564,-0.09787718185822061]},{\"values\":[0.12915037127178938,-0.13283628146188256,-0.20748244985174444,-0.5767235146870886,-0.6127172000710698,-0.2628105616014119,-0.051085321244420945,0.2044434119179593,-0.22367335109451694,-0.5220340498570132,0.1706250155215257,-0.71496243018821,-0.5249921560496635,0.009886042900188081,-0.5272809380693524,-0.5304835804000495,-0.07337230503972679,-0.40867864039443696,-0.4505359827071335,-0.5000263114650326,-0.1041826701407358,0.2725118831152149,-0.690103511968279,0.2886342791517742,-0.2790823955735526,-0.13911136105143343,0.24207127846377738,0.26738286618322393,-0.505303167910943,0.020853021351654042,0.017173172136967316,-0.2471576978103692,0.26139218643669604,-0.17407710093940706,-0.5818094789869325,-0.167596223963299,-0.6669577181343571,-0.01802224976196128,0.1154279237124441,-0.020004914268291114,-0.5261235517926033,-0.6315689789969982,-0.6370837956148264,-0.2843594640223908,0.25346810780801116,0.04628731470620398,-0.20392133294833056,-0.615013654544066,-0.433872562422971,-0.5513303476771395,-0.11835473910108767,-0.5418475576224087,-0.14416369736298393,0.18069735325074832,-0.11040803016984406,-0.4028175213514893,0.04131609506550894,-0.24885133150396102,-0.6298878731030589,-0.4647581082332349,0.012162230558020768,-0.2183418426693494,0.01758067192792698,-0.01920684233013011,-0.13079399045123943,0.25613215019998586,0.03342426049889648,-0.21370563908803983,-0.5997059021991269,0.10931777423482213,0.1863616079715653,0.10159378266162764,-0.3450427123627277,-0.5070046349834471,0.10243784906576378,0.11496085071452063,-0.1420466772384871,-0.46540299345509495,-0.28071476688698077,-0.6402194995575523,-0.41063780799703414,-0.4957677010185197,-0.20945241299368642,-0.34584380180364177,0.23709654860360993,0.11941509944273594,-0.3177200633969378,-0.5076925791088898,0.13602818436851677,-0.4904496931092588,-0.3632170867297836,0.1350030921282787,0.1340802494185715,-0.3787582674984444,-0.5550553086848368,0.05515664720524305,-0.061425171886811195,-0.11441747774145054,-0.4321605949367406,-0.5005886995542622,0.3213804364923809,-0.08503470808463282,0.07538725949226448,-0.3309385156260561,0.013463564884448307,-0.38207256911448584,0.18024621077539882,0.17930840344622928,0.012722076220456045,-0.026655779355403603,-0.17160333630544702,-0.46195413078653697,-0.39063763698036297,-0.1175577427172803,0.024330080093157656,-0.3037310361275663,-0.5228276914386965,-0.31614497277706965,-0.3812932274975306,-0.3445602316918454,0.051205400845838356,0.04180800708151723,-0.28977064076953807,0.24513996175399896,0.09908420946727217,-0.3505365916680149,-0.03145915773631751,0.04705171032925606,-0.13107952331989056,0.19147057409822074,-0.4282809034961451,-0.402423505907116,-0.22170007355094215,0.3494838281641651,0.3904554948335591,0.3675445507554238,0.10553009578767057,-0.3887719181581075,-0.21472817295980193,-0.12721783722202942,0.3248239919174418,0.1384526959998043,-0.09358501642947115,0.37662829835299916,-0.3319601916611182,-0.288418604864084,0.6059055831783489,0.6080974273962876,-0.2324082678619978,0.14059707071401228,-0.14318235393399167,-0.24389648890328555,0.16400370267490802,-0.2710022595892395,-0.20655592179045473,0.4729358480531626,-0.14266825098821287,0.05865566642484543,-0.24337782129395047,-0.05300451647736637,0.518685841084375,0.03331898203732643,0.5967323277448348,0.22230281740599167,-0.1872063600565912,0.36450387449258903,-0.12907389848281042,0.7631750644733126,-0.12752633804822008,-0.15083970741422706,0.6754872696610473,0.7071266262380922,-0.18735257765301186,0.20393568443479845,0.38568413935581236,0.6156975067547878,0.6854971244142649,0.08338612134535921,0.10318978153717204,-0.14333468410704486,0.3062797680404178,0.5927514811447057,0.42237975456086707,-0.028860398448794913,0.6827397318375569,0.3951735297445964,0.563854095175715,0.04514284193777543,0.009373878838508189,0.5194145195905864,0.28022295930899976,0.2801564573376214,0.5509949637356014,0.7819712166020005,0.255714035521253,0.9561699244120252,0.7410647022979951,0.9420898103576012,0.1166040835611128,0.08740395865659883,0.3030679463946462,0.9227528465136663,0.5103494610730948,0.17956672162629067,0.5929049757904471,0.22078646179598183,0.48328515150168183,0.6787915485555689,0.4518986825859863,0.6801270497750008,0.7321748745304567,0.4097987728285502,0.9586675526373734,0.0034775428105894117,0.31325835862218593,0.953586063642097,0.1616251309657919,0.4827043735696752,0.0800679491355163,0.22864525519061782,0.4378459835114922,0.10047863578119519,0.8751071585533556,-0.008226709848372345,0.03851055778096524,-0.11219862503069382]},{\"values\":[1.3376388946435822,1.2604849454907352,0.7340727833088562,0.9510623938896172,0.45914315945042805,1.2505994651148993,0.4580278841918961,0.7814372869830223,0.7599165504569937,0.42100397380326265,0.5487657312147398,0.5249057193311099,1.0330816641921823,1.1382884530665276,0.45228756486855526,1.0833750520282908,0.7413121505577543,0.8817335679707184,1.1287961385988154,0.9631811219988388,1.2268251412422,1.156019018181579,1.3047543718666086,0.7952139698327517,0.8870540627626607,1.1411167492763714,1.2847095409397116,0.42368371547154887,0.696152453082313,0.6175192038281283,0.6295496190518529,1.0448343831539042,0.4251809327701899,0.5394483732924302,1.034163917012507,1.1802795785976192,0.9294653848386529,0.4991683491494102,0.8315425679027689,0.7657832515207501,0.444551495836414,1.0800854541934937,0.7003458456586313,0.5973605191064407,0.5984212252613947,0.984626914198181,1.022292010199704,0.8505212579974766,1.3049016794581385,0.8680493333120881,0.6198158485798927,0.40506756942447675,0.8893058934983085,0.9175243796215474,1.2183404847140908,0.8539202770214477,0.9765353095426066,0.9692570008812152,0.7126142477454529,0.9465804587052798,1.1161327314508127,1.3422464379416008,0.7030143708969,1.3097582112941983,0.5626396281286378,1.2585961976369973,0.8539427699886665,1.2467426623243132,0.7716997807602926,0.5116130746330556,0.3011979583800777,0.5389420974732798,0.9937828765272171,0.7536453031824426,1.16702349868109,0.9721348798106926,0.2856540369751773,1.0129367051920528,0.4856435621773398,1.2253845844062767,1.1884615304473984,0.8065211563790781,1.0924689957512166,0.4868541869883269,0.3698771514165262,1.0772705554912896,0.7542126297494679,0.7354761174917293,0.6138810893171056,0.4424721970577734,0.6324652092869193,0.3652419857519523,1.1078644033986724,0.9087851058702376,0.40185633876784693,0.4100912954786048,0.9207794766216676,0.2971411965003753,0.7597312498401119,0.5900675881007904,1.133038747217431,0.9851808185432546,0.9770412310080356,0.6798757768364383,1.3530555644551008,0.7961471858722102,1.0354055640396733,1.0585421639645562,0.47409095675691937,0.42713203048487935,1.0630256779276819,0.7946276035543717,0.9813169598397512,1.1834759534769486,0.44694141394091463,0.7446837108062553,0.8246437997275425,0.30990050017444787,0.7033848743767905,1.1536159908742225,0.8754668252214858,1.2620425777089792,0.31433351351265926,0.6533187220032781,0.5267114832001011,1.0705902177614253,0.786844488548579,0.9230576804583701,0.6370844686458194,1.009498473293921,1.1215359884263907,0.46527269295837614,0.8676259087821636,0.8216187977021256,0.7186165676094508,1.233209973114213,1.200476691450291,0.5674854709728557,0.8711730817122926,0.30688584101074207,0.4666336904542068,0.5634903271883633,1.0846785872069598,0.5266730940055697,0.39214196342982993,0.28402388373371645,0.37222749230067403,0.19040726479378614,0.38409429318867533,0.5000351433368264,0.0742731460581325,0.16794504775758873,0.40460421238510974,0.1760477301139245,0.9258956359695438,0.3966153830812908,0.5204504455787337,0.30734839787305646,0.5185508189096878,0.5811268694573454,0.21268960240444199,0.9052666397246012,0.6920385091524559,0.13624708269187938,0.24471018904054562,0.8575780112612371,0.6883004110528397,0.696898362851129,0.8987616818140296,0.4388981543941003,0.15597520694877873,0.8227770102566818,0.23664960622154607,0.8707046358064225,0.28049676714468225,0.23366427619826807,0.5807317061097298,0.0023836232988781528,0.29111066405822394,-0.03252383348453493,0.716697966112411,0.31824326814800935,0.6475452275030713,0.5045633182813123,0.8494340503224529,0.5413964870795914,0.6010934759215731,0.3390243309596059,-0.10449504382861649,0.5388603786187213,0.7260482898796399,0.02066031708671977,0.006592712524608087,0.42460643061721565,0.2654894948377608,0.2722803097380025,0.42712061675078566,0.37709450650474974,0.4445009119020217,-0.17394927770523044,-0.06765577377084932,-0.21363219316288362,0.26379659209538625,0.17974782612567078,0.6112585659183439,-0.026877104926779073,0.39701554936855177,0.41666193276660674,0.46644801461311314,0.0904053224614549,0.1744176335477905,-0.018664944495069325,0.06395609553993285,0.06021945505038828,-0.16817365663554248,0.2483276738552259,0.1239184493730836,-0.004546187841126176,0.23945127404977104,0.627997803952128,0.912820723083692,0.830286085334825,0.7729436448391438,0.5222366543046882,0.446819463618149,-0.11984438278816445]},{\"values\":[0.9988801123799705,1.1523793162627445,0.9170730282816685,0.9627898466211474,1.2668103928385919,0.451852517897642,1.0287778591572525,0.5897926708220181,1.1391757284055675,0.38314116303743284,0.8731757293116799,0.9666331895807522,0.6093011923621586,1.3239207733148604,1.114721422992712,1.3207650343493145,0.5720715767918324,0.7264662970872482,1.3493685170919039,0.37752796436221947,0.9144576733921752,1.3442985351101255,0.5421357972616513,1.0721951023617209,1.05113371352527,1.079946844116939,1.0359717387667682,1.2944724530307872,0.9237482154123343,0.712529825278661,0.9153240137533609,0.6378995051135369,0.8921084626048987,0.49206309537710025,0.8114490370418256,1.2629433714146752,0.9927645108140478,1.3164330650113396,1.0131704086129019,0.8675071724368478,0.6389979227347703,0.8782599330769915,0.6346502804051994,0.6431528086681431,1.3116500733118979,0.8770018967538074,0.9841204641940596,0.5102555743720047,0.8925276141510102,0.842771696911364,0.6309877507458378,0.5199269980693476,0.7895658718970219,1.2768750612853292,1.3482843668389364,0.9838702084138937,1.0273766190428164,0.9818901564237827,1.3115954220934323,0.6643168573622604,0.5441458327515154,0.8083738623927699,0.9562090959578922,1.3551612232540289,1.1537549247350152,0.7930255758681299,0.614604902239428,0.9339330583049925,0.6040144809780428,0.7489390886758316,0.6619632777658401,0.8666006600309958,0.5318160081447949,0.3265151816402634,0.44857565498107643,0.41380173731324177,1.2335357255405843,0.6521855238832913,0.7529033451014452,0.944477406061948,0.7805756832299058,0.43587754649879196,0.3836398639353667,0.646433819953051,0.8786733226540886,0.8382640761946089,0.9255057727028182,1.0230288654069981,0.5007289830619284,1.1335605365833734,1.1352724684511555,0.895055475760088,0.6253547032582889,0.3185327900354522,1.2556736240838997,0.28178151647779454,0.7612033526472936,0.9574882488562941,0.7932082494954589,0.29383125010503897,0.9674941712752773,0.8803172140267721,0.9084284237618007,1.255834574539272,0.3846957198583525,0.4532810167804091,0.5642289785397847,0.3942170569867137,0.5874797288148221,0.588143307233913,1.2841313924185338,0.8630904046661595,1.2660421955479162,0.943700358346157,0.5838416138636763,0.3648042663867235,0.7848301321977057,1.0675800488073304,0.3340426841271711,0.615180050303554,0.6958012850930712,1.0725993192919279,0.2886012090458607,0.6898307015822732,1.2667674235769422,0.7163230397006717,0.5448430184019213,0.4759296658600434,0.5877557346676399,0.9492089981677492,1.0156113916508376,0.5874029051615719,0.5934656283981462,0.386055117032463,1.084235774157545,1.0650241215085074,0.6375958326378981,0.6395262255054593,0.6800724049210243,0.6167265384603008,0.3736465793463072,0.7370969963540629,0.6551842363648263,0.47087612945822077,0.13690358035364755,1.0165233161888687,0.6254073121703162,0.9249461926884713,0.2958427605495389,0.4399379888181976,0.12113545698584048,0.9959712988791973,1.0177732145853997,0.1084576505587473,0.39684215332976364,0.08642224034915208,0.689176568432026,0.6855585998526866,0.6668188214615476,0.06691353049954797,0.14095509319529478,0.5752554084377758,0.5264056459760803,0.49406530181046276,0.730011996056528,0.024648935084444174,0.29921722440159554,0.5037545682038607,0.2240461714875178,0.5376260733918543,0.3533489355153815,0.17339280448269984,0.7573381951506568,0.6267751642355364,0.6900535762515746,0.2757546106185449,0.27231157307783355,0.663981722115052,0.713527977280504,0.0787397200847037,0.61064649505243,0.19573826206826628,0.2752859341802351,0.2312559613314725,0.4187692756832248,0.12117345945137788,0.32171970206380485,0.29649535495708906,0.49859343221271873,0.05884070053696282,0.686371974580693,0.12034445616225871,-0.09145121549405968,0.4969728192955692,-0.23305782389034976,-0.04755303242802253,0.14853859243729464,0.20416939033701348,0.6676126805973585,0.1355802090769266,0.4161199247968954,-0.23532683722571482,-0.02117699415802574,0.14315391712636374,0.6673981948799745,0.4277117228085578,0.2529887969757269,0.450370986411845,-0.20386392892204444,0.13367771986312593,0.47683809501309554,0.3739413418238921,0.031228795158564956,0.4716376988020073,0.7651357400588652,0.1403359755906192,0.4758606702377602,0.7478972581856711,-0.1482387022025264,0.46085670296927445,0.2243049620213363,0.6799844627153679,0.3300447210021927,0.001957151224394913,-0.03053106423639284,-0.12930818126061747]},{\"values\":[0.4308303869440026,1.0578845607284835,0.98379309142267,0.8028758040048155,1.2204100278012167,0.9554225813238064,0.39143947413634805,0.5103594353029558,0.3607707080233586,1.2810335971673006,1.0229719178768701,0.8031765747917948,0.9526642023283562,0.48491518250481025,0.42162405037203593,0.7057468058446643,1.327690109599803,0.39629276023987814,1.1212558164427489,0.811791034758602,1.2038964270866304,1.2133123647395445,1.153282460593106,0.39938492691438543,1.0638881212049658,0.6098799520834124,0.6879428093542774,1.2655585743694184,0.42012538673851046,1.3091090347700856,1.1257449509558994,0.5021994080447046,0.6588255698954434,1.2570452448406761,1.1242957273670913,0.6909125341159095,0.4945844750051669,0.6452060404901364,1.1958486578600653,0.4676608165420215,1.0483554628239744,1.3413337492035522,1.006074401649311,1.1027319201206807,1.244498680124209,1.082511127977898,0.8597922843213235,1.0434972147936532,1.353045408998519,0.3914682303446752,0.6244236081787681,0.6681458098663369,1.2276783783860623,0.41348270087994593,0.6107317932425274,0.46241973710580153,1.1761569926807627,0.6656428808549342,0.6633228765527005,0.3947051777092203,0.7006129768189021,0.54228125299298,0.6498456493186664,1.043932309665939,1.2248176151754888,0.8431152412692442,0.8472681491494176,0.9189284379987788,0.6952542179792817,0.6089312723459283,0.9678586177460307,1.2893525479054262,0.4027995800282717,0.3929768613242474,0.31958672131073584,1.279396603277529,1.1565450591193376,1.0450607905410192,1.1952557314086871,0.5794070347095253,0.9376344261614152,0.6627143031754927,1.0338271708918358,0.4036673168791957,0.45277723835498923,0.8819356455996253,0.33335598319476833,1.0478960392977832,1.2601147063844842,1.1879917628055792,0.38695290052162484,1.0750071698326018,0.5510087825525486,0.3897641220514452,0.878929580797806,1.1409323911143423,1.1141047971920028,0.8347776873988076,0.6773909559022357,1.1523655553061718,1.1724004643890253,0.49246637128805515,1.162246616925141,0.8287391538750103,1.058272628485441,0.6392359197264057,0.4515889527266461,1.3393030016529313,0.5430521254666156,1.1808104315980301,0.7514414218559015,0.5958644081686632,0.3699542432345308,0.4073262922361873,1.3281685810381978,1.2232202446946896,1.0321370844149154,1.1247800158019468,0.9973752444362415,0.5717085868420492,0.340828027991917,0.9627035217705663,1.1775135151982266,0.3701331753260913,0.4130279836564781,0.9597379835695232,0.6789712092136387,0.8183318342144945,0.392712482904956,0.2906723641624834,0.41452397990787165,0.5515987640281749,0.7200842671208157,0.4303716157939223,0.9784408829860567,1.1094808449275193,1.0172021640312532,1.1785458805274747,0.9388240070805424,0.282690678194361,1.0582718664092308,0.2504431721101725,1.0274276580972563,0.35492010423825604,0.5684040003040949,0.48639171344533016,0.3809903231906007,0.29048714439767026,0.6596784620002609,0.6795088660116164,0.4808168660580935,0.7484038294410144,0.48709516689199883,0.003549457912870209,0.6227106701235123,0.528836210649946,0.036534025000147685,0.07120779641228707,0.43273680192911906,0.06259364016304304,0.31234353362915973,0.5703257170740976,0.14920639869200517,0.5524242957886825,0.3649778648353045,0.7005854073569081,0.6060573812813136,0.3055967495718754,0.5519869963949788,0.4056116381504813,0.6921892017530693,-0.006718571120892643,0.12589324954301312,0.20718041483265262,-0.049219280244284264,0.4444782538360571,0.31674519916088967,0.4783378578508317,0.3221764175525444,0.5888555390513546,0.7757246366921298,-0.0454651674002228,0.7906889121118396,0.3831428741627556,0.7685413609048828,0.8121643622603081,0.30167712202713554,0.13647164982313173,0.1594295650882566,0.31768456625263647,0.07603636491180069,0.12176216325347423,0.2534090903910003,0.49736557342000226,0.30759967567089336,-0.09279258321992703,-0.059522906176246226,0.15432102786828975,0.49668338280573626,0.46976479951874794,-0.23678814284919716,0.5555459876686415,-0.2037572214342855,0.37976353560882903,0.1623920797841313,-0.1507576631429631,0.5310835080710888,0.5569900543780778,0.39386937836019215,0.469166472259886,0.42965329572003597,-0.17143932883413118,0.4707230922476272,-0.028133723347139667,0.46317428850047976,0.4080764909533945,0.21190954209118487,0.10437148554884605,0.0437346694042104,0.7176660184988558,0.6667656821842307,-0.004240513410398324,0.8195385698136652,0.10890015278393926,0.35061355945978173,-0.13480991606694653]}]},{\"input_features\":5,\"output_features\":3,\"activation\":\"relu_activation\",\"neurons\":[{\"values\":[0.2348036272600923,-0.3299689247097655,0.23793968870139337,0.5070892228841078,0.2582554535941222,-0.0044580216026254265]},{\"values\":[0.414529829136085,0.3907555540861243,-0.14508626930087487,-0.2526643919423257,0.367120570863409,-0.006841082274194994]},{\"values\":[0.08085079988393293,0.9425247466979466,0.9732862456079628,0.48895767324099093,0.33946258863878126,-0.029212679285622514]}]},{\"input_features\":3,\"output_features\":1,\"activation\":\"sigmoid_activation\",\"neurons\":[{\"values\":[0.3494380481876106,0.2062983608303127,-0.27150807557641116,-0.07016452452704906]}]}]}\n"
     ]
    }
   ],
   "source": [
    "# Write the model to a file\n",
    "import json\n",
    "\n",
    "exported_model = model.export()\n",
    "model_json = exported_model.model_dump_json()\n",
    "print(model_json)\n",
    "\n",
    "# Write the model to a file\n",
    "with open('model_weights.json', 'w') as f:\n",
    "    f.write(model_json)"
   ]
  },
  {
   "cell_type": "code",
   "execution_count": 11,
   "metadata": {},
   "outputs": [
    {
     "name": "stdout",
     "output_type": "stream",
     "text": [
      "Importing model...\n",
      "Imported model!\n",
      "Model successfully imported and validated.\n"
     ]
    }
   ],
   "source": [
    "from micrograd.nets.NeuralNet import NeuralNet\n",
    "from micrograd.schemas.schemas import ModelSchema\n",
    "\n",
    "# Read the model from the file\n",
    "with open('model_weights.json', 'r') as f:\n",
    "    model_json = f.read()\n",
    "\n",
    "# Parse and validate the JSON using pydantic\n",
    "model_schema = ModelSchema.model_validate_json(model_json)\n",
    "\n",
    "# Create a new NeuralNet instance from the validated schema\n",
    "imported_model = NeuralNet.from_json(model_schema)\n",
    "\n",
    "print(\"Model successfully imported and validated.\")\n"
   ]
  },
  {
   "cell_type": "code",
   "execution_count": 12,
   "metadata": {},
   "outputs": [
    {
     "name": "stdout",
     "output_type": "stream",
     "text": [
      "Val(value=0.7960, grad=1.0000, parents=(159.19965853657683 * 0.005))\n",
      "0.7959982926828841\n",
      "Loss: 0.7960\n",
      "Epoch [], Loss: 0.7960\n"
     ]
    }
   ],
   "source": [
    "print(loss)\n",
    "print(loss.value)\n",
    "print(f'Loss: {loss.value:.4f}')\n",
    "print(f'Epoch [], Loss: {loss.value:.4f}')"
   ]
  },
  {
   "cell_type": "code",
   "execution_count": 13,
   "metadata": {},
   "outputs": [
    {
     "name": "stdout",
     "output_type": "stream",
     "text": [
      "Correct guesses: 23, Wrong guesses: 27, Total: 50 - Accuracy: 46.0%\n",
      "Loss: Val(value=0.7960, grad=1.0000, parents=(159.19965853657683 * 0.005))\n"
     ]
    }
   ],
   "source": [
    "# Test the model\n",
    "n = len(x_valid)\n",
    "correct_guesses = 0\n",
    "wrong_guesses = 0\n",
    "\n",
    "y_pred = [model(xi) for xi in x_valid]\n",
    "\n",
    "predictions = []\n",
    "\n",
    "for pred in y_pred:\n",
    "    if pred.value <= 0.5:\n",
    "        predictions.append(0)\n",
    "    else:\n",
    "        predictions.append(1)\n",
    "    \n",
    "for i in range(n):\n",
    "    # print(f'Prediction: {predictions[i]} with confidence {y_pred[i].value:.2f} for actual: {y_valid[i].value}')\n",
    "\n",
    "    if predictions[i] == y_valid[i].value:\n",
    "        correct_guesses += 1\n",
    "    else:\n",
    "        wrong_guesses += 1\n",
    "\n",
    "print(f\"Correct guesses: {correct_guesses}, Wrong guesses: {wrong_guesses}, Total: {n} - Accuracy: {(correct_guesses/n)*100}%\")\n",
    "print(f\"Loss: {loss}\")\n"
   ]
  },
  {
   "cell_type": "code",
   "execution_count": 14,
   "metadata": {},
   "outputs": [
    {
     "name": "stdout",
     "output_type": "stream",
     "text": [
      "Correct guesses: 23, Wrong guesses: 27, Total: 50 - Accuracy: 46.0%\n",
      "Loss: Val(value=0.7960, grad=1.0000, parents=(159.19965853657683 * 0.005))\n"
     ]
    }
   ],
   "source": [
    "# Testing the imported model\n",
    "# Test the model\n",
    "n = len(x_valid)\n",
    "correct_guesses = 0\n",
    "wrong_guesses = 0\n",
    "\n",
    "y_pred = [imported_model(xi) for xi in x_valid]\n",
    "\n",
    "predictions = []\n",
    "\n",
    "for pred in y_pred:\n",
    "    if pred.value <= 0.5:\n",
    "        predictions.append(0)\n",
    "    else:\n",
    "        predictions.append(1)\n",
    "    \n",
    "for i in range(n):\n",
    "    # print(f'Prediction: {predictions[i]} with confidence {y_pred[i].value:.2f} for actual: {y_valid[i].value}')\n",
    "\n",
    "    if predictions[i] == y_valid[i].value:\n",
    "        correct_guesses += 1\n",
    "    else:\n",
    "        wrong_guesses += 1\n",
    "\n",
    "print(f\"Correct guesses: {correct_guesses}, Wrong guesses: {wrong_guesses}, Total: {n} - Accuracy: {(correct_guesses/n)*100}%\")\n",
    "print(f\"Loss: {loss}\")"
   ]
  },
  {
   "cell_type": "code",
   "execution_count": 15,
   "metadata": {},
   "outputs": [
    {
     "name": "stdout",
     "output_type": "stream",
     "text": [
      "Val(value=4.6052, grad=0.0000, parents=(2.3025850929940455 + 2.3025850929940455))\n"
     ]
    }
   ],
   "source": [
    "y_pred = Value(0.1)\n",
    "y = Value(1.0)\n",
    "\n",
    "loss_test = Value(0.0)\n",
    "loss_test += (-(y * y_pred.log()) - ((Value(1.0)-y)*(Value(1.0)-y_pred).log()))\n",
    "loss_test += (-(y * y_pred.log()) - ((Value(1.0)-y)*(Value(1.0)-y_pred).log()))\n",
    "\n",
    "\n",
    "print(loss_test)"
   ]
  }
 ],
 "metadata": {
  "kernelspec": {
   "display_name": ".venv",
   "language": "python",
   "name": "python3"
  },
  "language_info": {
   "codemirror_mode": {
    "name": "ipython",
    "version": 3
   },
   "file_extension": ".py",
   "mimetype": "text/x-python",
   "name": "python",
   "nbconvert_exporter": "python",
   "pygments_lexer": "ipython3",
   "version": "3.12.4"
  }
 },
 "nbformat": 4,
 "nbformat_minor": 2
}
